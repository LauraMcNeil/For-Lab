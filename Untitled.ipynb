{
 "cells": [
  {
   "cell_type": "code",
<<<<<<< HEAD
   "execution_count": 12,
=======
   "execution_count": 6,
>>>>>>> cb01453be78239c16550696891f737856a78d2ad
   "metadata": {},
   "outputs": [
    {
     "name": "stdin",
     "output_type": "stream",
     "text": [
<<<<<<< HEAD
      "What is your name? Jace\n",
      "How old are you? 21\n"
=======
      "What is your name? Laura\n",
      "How old are you? 2\n"
>>>>>>> cb01453be78239c16550696891f737856a78d2ad
     ]
    },
    {
     "name": "stdout",
     "output_type": "stream",
     "text": [
<<<<<<< HEAD
      "Hi, Jace! You are 3 years older than me.\n"
=======
      "Hi, Laura! You are 16 years younger than me.\n",
      "The average between our birthdays is 10.0, isn't that crazy?\n"
>>>>>>> cb01453be78239c16550696891f737856a78d2ad
     ]
    }
   ],
   "source": [
    "name = input(\"What is your name?\")\n",
    "age = int (input (\"How old are you?\"))\n",
    "diff = age - 18\n",
    "avg = (age + 18)/2\n",
    "if diff == 0:\n",
    "    print (\"Hi, \" + name + \"! You are the same age as me.\")\n",
    "elif diff > 0:\n",
    "    diff = str(diff)\n",
    "    print (\"Hi, \" + name + \"! You are \" + diff + \" years older than me.\")\n",
    "elif diff < 0:\n",
    "    diff = abs(diff)\n",
    "    diff = str(diff)\n",
    "    print (\"Hi, \" + name + \"! You are \" + diff + \" years younger than me.\")\n",
    "if avg != 0:\n",
    "    avg = str(avg)\n",
    "    print(\"The average between our birthdays is \" + avg + \", isn't that crazy?\")\n"
   ]
  },
  {
   "cell_type": "code",
   "execution_count": null,
   "metadata": {},
   "outputs": [],
   "source": []
  }
 ],
 "metadata": {
  "kernelspec": {
   "display_name": "Python 3",
   "language": "python",
   "name": "python3"
  },
  "language_info": {
   "codemirror_mode": {
    "name": "ipython",
    "version": 3
   },
   "file_extension": ".py",
   "mimetype": "text/x-python",
   "name": "python",
   "nbconvert_exporter": "python",
   "pygments_lexer": "ipython3",
   "version": "3.8.3"
  }
 },
 "nbformat": 4,
 "nbformat_minor": 4
}
